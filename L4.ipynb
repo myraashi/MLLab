{
 "cells": [
  {
   "cell_type": "markdown",
   "id": "4631901f",
   "metadata": {},
   "source": [
    "# Box-plot"
   ]
  },
  {
   "cell_type": "markdown",
   "id": "2b710770",
   "metadata": {},
   "source": [
    "To visualize n-dimensional data using a box plot, you would typically need to reduce the dimensionality of the data to a single variable or a set of variables that can be represented by box plots. Box plots provide a concise summary of the distribution of a dataset, including information about the median, quartiles, and outliers."
   ]
  },
  {
   "cell_type": "code",
   "execution_count": 10,
   "id": "c9af478f",
   "metadata": {},
   "outputs": [
    {
     "data": {
      "image/png": "[encoded data removed]",
      "text/plain": [
       "<Figure size 640x480 with 1 Axes>"
      ]
     },
     "metadata": {},
     "output_type": "display_data"
    }
   ],
   "source": [
    "import numpy as np\n",
    "import matplotlib.pyplot as plt\n",
    "\n",
    "# Generate sample n-dimensional data\n",
    "data = np.random.randn(100, 5)  \n",
    "\n",
    "# Create a box plot\n",
    "plt.boxplot(data)\n",
    "\n",
    "# Add labels and title\n",
    "plt.xlabel('Variables')\n",
    "plt.ylabel('Values')\n",
    "plt.title('Box Plot of n-Dimensional Data')\n",
    "\n",
    "# Show the plot\n",
    "plt.show()"
   ]
  },
  {
   "cell_type": "markdown",
   "id": "559661b5",
   "metadata": {},
   "source": [
    "# Alpha-beta pruning"
   ]
  },
  {
   "cell_type": "code",
   "execution_count": 5,
   "id": "97114531",
   "metadata": {},
   "outputs": [
    {
     "name": "stdout",
     "output_type": "stream",
     "text": [
      "Optimal value:  -2\n",
      "Solution path:\n",
      "0\n",
      "3\n",
      "2\n",
      "5\n",
      "No pruned nodes\n"
     ]
    }
   ],
   "source": [
    "class Node:\n",
    "    def __init__(self,value):\n",
    "        self.value = value\n",
    "        self.children = []\n",
    "        self.alpha = float('-inf')\n",
    "        self.beta = float('inf')\n",
    "        \n",
    "    def add_child(self, child_node):\n",
    "        return self.children.append(child_node)\n",
    "    def is_leaf(self):\n",
    "        return not self.children\n",
    "    \n",
    "def alphabetapruning(node,depth,alpha,beta,maximizing_player):\n",
    "    if depth==0 or node.is_leaf():\n",
    "        return node.value\n",
    "    if maximizing_player:\n",
    "        max_val = float('-inf')\n",
    "        best_child = None\n",
    "        \n",
    "        for child in node.children:\n",
    "            child_value = alphabetapruning(child,depth-1,alpha,beta,False)\n",
    "            if child_value>max_val:\n",
    "                max_val = child_value\n",
    "                best_child  = child\n",
    "                \n",
    "            alpha = max(alpha,max_val)\n",
    "            if alpha>=beta:\n",
    "                break\n",
    "                \n",
    "            node.alpha = max_val\n",
    "            if node.alpha>node.beta:\n",
    "                pruned_nodes.append(node)\n",
    "                \n",
    "        return max_val\n",
    "    else:\n",
    "        min_val = float('inf')\n",
    "        best_child = None\n",
    "        \n",
    "        for child in node.children:\n",
    "            child_value = alphabetapruning(child,depth-1,alpha,beta,True)\n",
    "            if child_value<min_val:\n",
    "                min_val = child_value\n",
    "                best_child  = child\n",
    "                \n",
    "            beta = min(beta,min_val)\n",
    "            if alpha>=beta:\n",
    "                break\n",
    "                \n",
    "            node.beta = min_val\n",
    "            if node.alpha>node.beta:\n",
    "                pruned_nodes.append(node)\n",
    "                \n",
    "        return min_val\n",
    "    \n",
    "root = Node(0)\n",
    "node_b = Node(3)\n",
    "node_c = Node(-3)\n",
    "node_d = Node(2)\n",
    "node_e = Node(1)\n",
    "node_f = Node(-2)\n",
    "node_g = Node(5)\n",
    "node_h = Node(-5)\n",
    "\n",
    "\n",
    "root.add_child(node_b)\n",
    "root.add_child(node_c)\n",
    "node_b.add_child(node_d)\n",
    "node_b.add_child(node_e)\n",
    "node_b.add_child(node_f)\n",
    "node_d.add_child(node_g)\n",
    "node_d.add_child(node_h)\n",
    "\n",
    "pruned_nodes = []\n",
    "maximizing_player = True\n",
    "\n",
    "optimalvalue = alphabetapruning(root,5,float('-inf'), float('inf'),maximizing_player)\n",
    "\n",
    "print(\"Optimal value: \", optimalvalue)\n",
    "path = [root]\n",
    "current_node = root\n",
    "while current_node.children:\n",
    "    if maximizing_player:\n",
    "        current_node = max(current_node.children,key=lambda x:x.alpha)\n",
    "        maximizing_player = False\n",
    "    else:\n",
    "        current_node = min(current_node.children,key=lambda x:x.beta)\n",
    "        maximizing_player = True\n",
    "    path.append(current_node)\n",
    "    \n",
    "print(\"Solution path:\")\n",
    "for node in path:\n",
    "    print(node.value)\n",
    "if pruned_nodes:\n",
    "    print(\"Pruned nodes: \")\n",
    "    for node in pruned_nodes:\n",
    "        print(node.value)\n",
    "else:\n",
    "    print(\"No pruned nodes\")\n",
    "        "
   ]
  },
  {
   "cell_type": "code",
   "execution_count": null,
   "id": "bf5b7229",
   "metadata": {},
   "outputs": [],
   "source": []
  }
 ],
 "metadata": {
  "kernelspec": {
   "display_name": "Python 3 (ipykernel)",
   "language": "python",
   "name": "python3"
  },
  "language_info": {
   "codemirror_mode": {
    "name": "ipython",
    "version": 3
   },
   "file_extension": ".py",
   "mimetype": "text/x-python",
   "name": "python",
   "nbconvert_exporter": "python",
   "pygments_lexer": "ipython3",
   "version": "3.10.9"
  }
 },
 "nbformat": 4,
 "nbformat_minor": 5
}

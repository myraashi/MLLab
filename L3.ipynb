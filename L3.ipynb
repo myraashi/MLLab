{
 "cells": [
  {
   "cell_type": "markdown",
   "id": "9b64dfea",
   "metadata": {},
   "source": [
    "# Visualizing n-dimensional data using heat map"
   ]
  },
  {
   "cell_type": "code",
   "execution_count": 4,
   "id": "276538c5",
   "metadata": {},
   "outputs": [
    {
     "data": {
      "image/png": "[encoded data removed]",
      "text/plain": [
       "<Figure size 640x480 with 2 Axes>"
      ]
     },
     "metadata": {},
     "output_type": "display_data"
    }
   ],
   "source": [
    "import numpy as np\n",
    "import matplotlib.pyplot as plt\n",
    "\n",
    "\n",
    "data = np.random.random((10, 10))  \n",
    "\n",
    "# Create a heat map\n",
    "plt.imshow(data, cmap='hot', interpolation='nearest')\n",
    "\n",
    "# Add color bar\n",
    "plt.colorbar()\n",
    "\n",
    "# Show the plot\n",
    "plt.show()\n"
   ]
  },
  {
   "cell_type": "markdown",
   "id": "00200613",
   "metadata": {},
   "source": [
    "# Program to implement Min-Max algorithm"
   ]
  },
  {
   "cell_type": "code",
   "execution_count": 8,
   "id": "39adc72d",
   "metadata": {},
   "outputs": [
    {
     "name": "stdout",
     "output_type": "stream",
     "text": [
      "Optimal value: 3\n",
      "Optimal path :  [0, 0, 3]\n"
     ]
    }
   ],
   "source": [
    "class Tree:\n",
    "    def __init__(self,value,children=[]):\n",
    "        self.value = value\n",
    "        self.children =children\n",
    "        \n",
    "    def __repr__(self):\n",
    "        return 'Tree({0},{1})'.format(self.value, self.children)\n",
    "    \n",
    "game_tree = Tree(0,[Tree(0,[Tree(3),Tree(12)]),\n",
    "                    Tree(0,[Tree(8),Tree(2)])])\n",
    "\n",
    "\n",
    "def minmax(node,depth,maximizingplayer):\n",
    "    if depth==0 or not node.children:\n",
    "        return node.value, [node.value] \n",
    "    \n",
    "    if maximizingplayer:\n",
    "        max_value = float(\"-inf\")\n",
    "        max_path = []\n",
    "        \n",
    "        for child_node in node.children:\n",
    "            child_value, child_path = minmax(child_node,depth-1,False)\n",
    "            if child_value>max_value:\n",
    "                max_value = child_value\n",
    "                max_path = [node.value] + child_path\n",
    "        return max_value, max_path\n",
    "    else:\n",
    "        min_value = float(\"inf\")\n",
    "        min_path = []\n",
    "        for child_node in node.children:\n",
    "            child_value, child_path = minmax(child_node, depth-1,True)\n",
    "            if child_value<min_value:\n",
    "                min_value = child_value\n",
    "                min_path = [node.value]+ child_path\n",
    "        return min_value, min_path\n",
    "    \n",
    "optimal_value, optimal_path = minmax(game_tree,2,True)\n",
    "print(\"Optimal value:\" ,optimal_value)\n",
    "print(\"Optimal path : \",optimal_path)\n",
    "            "
   ]
  },
  {
   "cell_type": "code",
   "execution_count": null,
   "id": "3daadeaa",
   "metadata": {},
   "outputs": [],
   "source": []
  },
  {
   "cell_type": "code",
   "execution_count": null,
   "id": "6e57313a",
   "metadata": {},
   "outputs": [],
   "source": []
  }
 ],
 "metadata": {
  "kernelspec": {
   "display_name": "Python 3 (ipykernel)",
   "language": "python",
   "name": "python3"
  },
  "language_info": {
   "codemirror_mode": {
    "name": "ipython",
    "version": 3
   },
   "file_extension": ".py",
   "mimetype": "text/x-python",
   "name": "python",
   "nbconvert_exporter": "python",
   "pygments_lexer": "ipython3",
   "version": "3.10.9"
  }
 },
 "nbformat": 4,
 "nbformat_minor": 5
}
